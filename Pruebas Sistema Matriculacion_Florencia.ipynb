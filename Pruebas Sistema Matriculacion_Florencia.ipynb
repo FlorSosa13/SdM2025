{
 "cells": [
  {
   "cell_type": "markdown",
   "id": "f8a4ad52",
   "metadata": {},
   "source": [
    "**Importamos la librería json y el archivo SistemaMatriculaciones.py, que contiene las clases**"
   ]
  },
  {
   "cell_type": "code",
   "execution_count": 20,
   "id": "d0ef6db4",
   "metadata": {},
   "outputs": [],
   "source": [
    "import json\n",
    "from SistemaMatriculaciones import PlanEstudio,UC,GestorExpediente,Estudiante,Secretaria"
   ]
  },
  {
   "cell_type": "markdown",
   "id": "f44a74fe",
   "metadata": {},
   "source": [
    "**Cargamos el Plan de Estudio de Ingeniería Biomédica utilizando la clase \"Plan Estudio\"**"
   ]
  },
  {
   "cell_type": "code",
   "execution_count": 21,
   "id": "82e0955d",
   "metadata": {},
   "outputs": [
    {
     "name": "stdout",
     "output_type": "stream",
     "text": [
      "{'Semestre 1': {'S1UC1': {'Nombre': 'Álgebra, Análisis y Geometría Analítica', 'Creditos': 8, 'Previas': []}, 'S1UC2': {'Nombre': 'Mecánica, Ondas y Calor', 'Creditos': 10, 'Previas': []}, 'S1UC3': {'Nombre': 'Química General e Inorgánica', 'Creditos': 9, 'Previas': []}, 'S1UC4': {'Nombre': 'Taller Inicial de Tecnologías', 'Creditos': 8, 'Previas': []}, 'S1UC5': {'Nombre': 'Salud y Sociedad', 'Creditos': 8, 'Previas': []}, 'S1UC6': {'Nombre': 'Ingles 1', 'Creditos': 4, 'Previas': []}}, 'Semestre 2': {'S2UC1': {'Nombre': 'Numeros Complejos y Ecuaciones Diferenciales', 'Creditos': 8, 'Previas': ['Álgebra, Análisis y Geometría Analítica']}, 'S2UC2': {'Nombre': 'Electricidad y Magnetismo', 'Creditos': 10, 'Previas': ['Álgebra, Análisis y Geometría Analítica', 'Mecánica, Ondas y Calor']}, 'S2UC3': {'Nombre': 'Química Orgánica y Biológica', 'Creditos': 9, 'Previas': ['Química Orgánica y Biológica']}, 'S2UC4': {'Nombre': 'Anatomía y Fisiologías Humanas', 'Creditos': 10, 'Previas': ['Salud y Sociedad', 'Mecánica, Ondas y Calor']}, 'S2UC5': {'Nombre': 'Ingles 2', 'Creditos': 4, 'Previas': []}}, 'Semestre 3': {'S3UC1': {'Nombre': 'Óptica y Radiaciones', 'Creditos': 10, 'Previas': ['Álgebra, Análisis y Geometría Analítica', 'Mecánica, Ondas y Calor']}, 'S3UC2': {'Nombre': 'Electrónica Analógica', 'Creditos': 10, 'Previas': ['Numeros Complejos y Ecuaciones Diferenciales', 'Electricidad y Magnetismo', 'Taller Inicial de Tecnologias']}, 'S3UC3': {'Nombre': 'Electroctenia', 'Creditos': 9, 'Previas': ['Numeros Complejos y Ecuaciones Diferenciales', 'Electricidad y Magnetismo']}, 'S3UC4': {'Nombre': 'Instalaciones Hospitalarias', 'Creditos': 9, 'Previas': ['Química Orgánica y Biológica', 'Anatomía y Fisiologías Humanas', 'Electricidad y Magnetismo']}, 'S3UC5': {'Nombre': 'Programación de Computadoras', 'Creditos': 8, 'Previas': ['Álgebra, Análisis y Geometría Analítica']}, 'S3UC6': {'Nombre': 'Ingles 3', 'Creditos': 4, 'Previas': []}}, 'Semestre 4': {'S4UC1': {'Nombre': 'Electrofisiología Clínica', 'Creditos': 10, 'Previas': ['Anatomía y Fisiologías Humanas', 'Electrónica Analógica']}, 'S4UC2': {'Nombre': 'Electrónica Digital', 'Creditos': 10, 'Previas': ['Electrónica Analógica']}, 'S4UC3': {'Nombre': 'Mecánica, Maquinas y Materiales', 'Creditos': 9, 'Previas': ['Álgebra, Análisis y Geometría Analítica', 'Mecánica, Ondas y Calor']}, 'S4UC4': {'Nombre': 'Imágenes Médicas', 'Creditos': 10, 'Previas': ['Anatomía y Fisiologías Humanas', 'Óptica y Radiaciones']}, 'S4UC5': {'Nombre': 'Práctica Profesional Curricular A (PPC A)', 'Creditos': 12, 'Previas': []}, 'S4UC6': {'Nombre': 'Ingles 4', 'Creditos': 4, 'Previas': []}}, 'Semestre 5': {'S5UC1': {'Nombre': 'Seguridad Eléctrica y Radiante', 'Creditos': 10, 'Previas': ['Electroctenia', 'Instalaciones Hospitalarias', 'Electrofisiología Clínica', 'Imágenes Médicas']}, 'S5UC2': {'Nombre': 'Normativa sobre Equipamientos Médicos', 'Creditos': 8, 'Previas': ['Electroctenia', 'Instalaciones Hospitalarias', 'Electrofisiología Clínica', 'Imágenes Médicas']}, 'S5UC3': {'Nombre': 'Taller de Mantenimiento de Equipos Médicos', 'Creditos': 10, 'Previas': ['Electroctenia', 'Instalaciones Hospitalarias', 'Electrofisiología Clínica', 'Mecánica, Maquinas y Materiales', 'Imágenes Médicas']}, 'S5UC4': {'Nombre': 'Matemática Avanzada I', 'Creditos': 9, 'Previas': ['Numeros Complejos y Ecuaciones Diferenciales', 'Programación de Computadoras']}, 'S5UC5': {'Nombre': 'Ingles 5', 'Creditos': 4, 'Previas': []}}, 'Semestre 6': {'S6UC1': {'Nombre': 'Instrumental de Laboratorio Clínico', 'Creditos': 9, 'Previas': ['Química Orgánica y Biológica', 'Instalaciones Hospitalarias']}, 'S6UC2': {'Nombre': 'Informática Médica', 'Creditos': 8, 'Previas': ['Programación de Computadoras', 'Electrofisiología Clínica', 'Imágenes Médicas']}, 'S6UC3': {'Nombre': 'Instrumentación Médica Complementaria', 'Creditos': 10, 'Previas': ['Electroctenia', 'Instalaciones Hospitalarias', 'Electrofisiología Clínica', 'Imágenes Médicas']}, 'S6UC4': {'Nombre': 'Matemática Avanzada II', 'Creditos': 9, 'Previas': ['Matemática Avanzada I']}, 'S6UC5': {'Nombre': 'Física Avanzada', 'Creditos': 8, 'Previas': ['Óptica y Radiaciones']}, 'S6UC6': {'Nombre': 'Proyecto Final de Titulación (a nivel Tecnólogo)', 'Creditos': 8, 'Previas': []}, 'S6UC7': {'Nombre': 'Ingles 6', 'Creditos': 4, 'Previas': []}}, 'Semestre 7': {'S7UC1': {'Nombre': 'Fisiopatología', 'Creditos': 9, 'Previas': ['Instrumental de Laboratorio Clínico', 'Instrumentación Médica Complementaria']}, 'S7UC2': {'Nombre': 'Radicaciones No-ionizantes', 'Creditos': 7, 'Previas': ['Matemática Avanzada 1', 'Física Avanzada']}, 'S7UC3': {'Nombre': 'Programación Digital Avanzada', 'Creditos': 7, 'Previas': ['Instrumental de Laboratorio Clínico', 'Instrumentación Médica Complementaria']}, 'S7UC4': {'Nombre': 'Legislación para la Salud', 'Creditos': 5, 'Previas': ['Normativa sobre Equipamiento Médico', 'Instrumental de Laboratorio Clínico', 'Informática Médica', 'Instrumentación Médica Complementaria']}, 'S7UC5': {'Nombre': 'Economía para la Salud', 'Creditos': 5, 'Previas': ['Normativa sobre Equipamiento Médico', 'Instrumental de Laboratorio Clínico', 'Informática Médica', 'Instrumentación Médica Complementaria']}, 'S7UC6': {'Nombre': 'Ingles 7', 'Creditos': 4, 'Previas': []}}, 'Semestre 8': {'S8UC1': {'Nombre': 'Bioestadística', 'Creditos': 7, 'Previas': ['Informática Médica']}, 'S8UC2': {'Nombre': 'Señales y Sistemas', 'Creditos': 8, 'Previas': ['Electrofisiología Clínica', 'Matemática Avanzada II']}, 'S8UC3': {'Nombre': 'Biomecánica y Biomateriales', 'Creditos': 7, 'Previas': ['Anatomía y Fisiología Humanas', 'Mecánica, Máquinas y Materiales']}, 'S8UC4': {'Nombre': 'Metodología de la Investigación', 'Creditos': 5, 'Previas': ['Física Avanzada', 'Fisiopatología']}, 'S8UC5': {'Nombre': 'Higiene y Seguridad en Ambientes Hospitalarios', 'Creditos': 5, 'Previas': ['Fisiopatología', 'Legislación para la Salud']}, 'S8UC6': {'Nombre': 'Ingles 8', 'Creditos': 4, 'Previas': []}}, 'Semestre 9': {'S9UC1': {'Nombre': 'Radioterapia', 'Creditos': 7, 'Previas': ['Seguridad Eléctrica y Radiante', 'Física Avanzada', 'Fisiopatología']}, 'S9UC2': {'Nombre': 'Gestión de Sistemas de Salud', 'Creditos': 9, 'Previas': ['Fisiopatología', 'Legislación para la Salud', 'Economía para la Salud', 'Bioestadística']}, 'S9UC3': {'Nombre': 'Investigación Clínica y Bioética', 'Creditos': 7, 'Previas': ['Metodología de la Investigación', 'Higiene y Seguridad en Ambientes Hospitalarios']}, 'S9UC4': {'Nombre': 'Electiva 1', 'Creditos': 4, 'Previas': ['Bioestadística', 'Señales y Sistemas', 'Biomecánica y Biomateriales', 'Metodología de la Investigación', 'Higiene y Seguridad en Ambientes Hospitalarios']}, 'S9UC5': {'Nombre': 'Electiva 2', 'Creditos': 4, 'Previas': ['Bioestadística', 'Señales y Sistemas', 'Biomecánica y Biomateriales', 'Metodología de la Investigación', 'Higiene y Seguridad en Ambientes Hospitalarios']}, 'S9UC6': {'Nombre': 'Práctica Profesional Curricular B', 'Creditos': 6, 'Previas': ['Bioestadística', 'Señales y Sistemas', 'Biomecánica y Biomateriales', 'Metodología de la Investigación', 'Higiene y Seguridad en Ambientes Hospitalarios']}, 'S9UC7': {'Nombre': 'Ingles 9', 'Creditos': 4, 'Previas': []}}, 'Semestre 10': {'S10UC1': {'Nombre': 'Telesalud y Telemedicina', 'Creditos': 8, 'Previas': ['Gestión de Sistemas de Salud']}, 'S10UC2': {'Nombre': 'Electiva 3', 'Creditos': 4, 'Previas': ['Radioterapia', 'Gestión de Sistemas de Salud', 'Investigación Clínica y Bioética']}, 'S10UC3': {'Nombre': 'Electiva 4', 'Creditos': 4, 'Previas': ['Radioterapia', 'Gestión de Sistemas de Salud', 'Investigación Clínica y Bioética']}, 'S10UC4': {'Nombre': 'Proyecto Final de Titulacion (nivel Ingenieria - PFT T)', 'Creditos': 8, 'Previas': []}, 'S10UC5': {'Nombre': 'Ingles 10', 'Creditos': 4, 'Previas': []}}}\n"
     ]
    }
   ],
   "source": [
    "planIBIO = PlanEstudio()\n",
    "print(planIBIO.cargarPlanEstudio())"
   ]
  },
  {
   "cell_type": "markdown",
   "id": "55c49278",
   "metadata": {},
   "source": [
    "**Prueba de la Clase UC, Creamos Unidades Curriculares**\n",
    "\n",
    "Generamos un objeto UC que representa una unidad curricular, la cual debe recibir el semestre al que corresponde su el código asociado"
   ]
  },
  {
   "cell_type": "code",
   "execution_count": 23,
   "id": "87f9c6cb",
   "metadata": {},
   "outputs": [
    {
     "name": "stdout",
     "output_type": "stream",
     "text": [
      "True\n",
      "Taller Inicial de Tecnologías\n",
      "[]\n",
      "8\n"
     ]
    }
   ],
   "source": [
    "# Inicializa una UC especificando el plan, semestre y código.\n",
    "taller= UC(planIBIO,\"Semestre 1\",\"S1UC4\")\n",
    "\n",
    "# Metodo infoUC: Extrae la información asociada a la UC (nombre, previas y créditos).\n",
    "print(taller.infoUC())\n",
    "\n",
    "# Metodo nombreMateria: Devuelve el nombre de la materia.\n",
    "print(taller.nombreMateria())\n",
    "\n",
    "# Metodo nombrePrevias: Devuelve el nombre de la materia.\n",
    "print(taller.nombrePrevias())\n",
    "\n",
    "# Metodo getCreditos: Devuelve la lista de materias previas de la unidad curricular.\n",
    "print(taller.getCreditos())"
   ]
  },
  {
   "cell_type": "code",
   "execution_count": 24,
   "id": "c97ee199",
   "metadata": {},
   "outputs": [
    {
     "name": "stdout",
     "output_type": "stream",
     "text": [
      "True\n",
      "Mecánica, Ondas y Calor\n",
      "[]\n",
      "10\n"
     ]
    }
   ],
   "source": [
    "fisica = UC(planIBIO, \"Semestre 1\", \"S1UC2\")\n",
    "print(fisica.infoUC())\n",
    "print(fisica.nombreMateria())\n",
    "print(fisica.nombrePrevias())\n",
    "print(fisica.getCreditos())"
   ]
  },
  {
   "cell_type": "code",
   "execution_count": 25,
   "id": "b57f2808",
   "metadata": {},
   "outputs": [
    {
     "name": "stdout",
     "output_type": "stream",
     "text": [
      "True\n",
      "Álgebra, Análisis y Geometría Analítica\n",
      "[]\n",
      "8\n"
     ]
    }
   ],
   "source": [
    "matematica = UC(planIBIO, \"Semestre 1\", \"S1UC1\")\n",
    "print(matematica.infoUC())\n",
    "print(matematica.nombreMateria())\n",
    "print(matematica.nombrePrevias())\n",
    "print(matematica.getCreditos())"
   ]
  },
  {
   "cell_type": "code",
   "execution_count": 26,
   "id": "6d0d4ff5",
   "metadata": {},
   "outputs": [
    {
     "name": "stdout",
     "output_type": "stream",
     "text": [
      "True\n",
      "Numeros Complejos y Ecuaciones Diferenciales\n",
      "['Álgebra, Análisis y Geometría Analítica']\n",
      "8\n"
     ]
    }
   ],
   "source": [
    "#Prueba de Clase UC, Creamos UC\n",
    "matematica2 = UC(planIBIO, \"Semestre 2\", \"S2UC1\")\n",
    "print(matematica2.infoUC())\n",
    "print(matematica2.nombreMateria())\n",
    "print(matematica2.nombrePrevias())\n",
    "print(matematica2.getCreditos())"
   ]
  },
  {
   "cell_type": "code",
   "execution_count": 27,
   "id": "0d1f862e",
   "metadata": {},
   "outputs": [
    {
     "name": "stdout",
     "output_type": "stream",
     "text": [
      "True\n",
      "Óptica y Radiaciones\n",
      "['Álgebra, Análisis y Geometría Analítica', 'Mecánica, Ondas y Calor']\n",
      "10\n"
     ]
    }
   ],
   "source": [
    "#Prueba de Clase UC, Creamos UC\n",
    "optica = UC(planIBIO, \"Semestre 3\", \"S3UC1\")\n",
    "print(optica.infoUC())\n",
    "print(optica.nombreMateria())\n",
    "print(optica.nombrePrevias())\n",
    "print(optica.getCreditos())"
   ]
  },
  {
   "cell_type": "markdown",
   "id": "a27c2055",
   "metadata": {},
   "source": [
    "Prueba de Clase GestorExpediente"
   ]
  },
  {
   "cell_type": "code",
   "execution_count": 28,
   "id": "a6bf0659",
   "metadata": {},
   "outputs": [
    {
     "name": "stdout",
     "output_type": "stream",
     "text": [
      "{'Nombre': 'Agustin Acosta', 'Cedula': 56692489, 'Año Ingreso': 2022, 'Materias Aprobadas': [], 'Materias Matriculadas': [], 'Inscripción Examen': [], 'Créditos': 0}\n"
     ]
    }
   ],
   "source": [
    "# Generamos el expediente de un estudiante con la clase \"GestorExpediente\"\n",
    "estudiante = GestorExpediente(\"Agustin Acosta\", 56692489, 2022)\n",
    "\n",
    "# Metodo creararchivo: Crea un archivo JSON para el estudiante con datos iniciales.\n",
    "estudiante.crearArchivo()\n",
    "\n",
    "# Metodo cargarDatos: Crea un archivo JSON para el estudiante con datos iniciales\n",
    "print(estudiante.cargarDatos())"
   ]
  },
  {
   "cell_type": "code",
   "execution_count": 29,
   "id": "9b90afd8",
   "metadata": {},
   "outputs": [
    {
     "name": "stdout",
     "output_type": "stream",
     "text": [
      "{'Nombre': 'Agustin Acosta', 'Cedula': 56692489, 'Año Ingreso': 2022, 'Materias Aprobadas': [], 'Materias Matriculadas': [], 'Inscripción Examen': [], 'Créditos': 0}\n"
     ]
    }
   ],
   "source": [
    "estudiante1 = GestorExpediente(\"Florencia Sosa\", 52286195, 2020)\n",
    "estudiante1.crearArchivo()\n",
    "print(estudiante.cargarDatos())"
   ]
  },
  {
   "cell_type": "code",
   "execution_count": 30,
   "id": "1054d744",
   "metadata": {},
   "outputs": [
    {
     "name": "stdout",
     "output_type": "stream",
     "text": [
      "{'Nombre': 'Agustin Acosta', 'Cedula': 56692489, 'Año Ingreso': 2022, 'Materias Aprobadas': [], 'Materias Matriculadas': [], 'Inscripción Examen': [], 'Créditos': 0}\n"
     ]
    }
   ],
   "source": [
    "estudiante2 = GestorExpediente(\"Joaquin Sanchez\", 12345678, 2020)\n",
    "estudiante2.crearArchivo()\n",
    "print(estudiante.cargarDatos())"
   ]
  },
  {
   "cell_type": "markdown",
   "id": "5b7413ac",
   "metadata": {},
   "source": [
    "Prueba de Clase Estudiante con metodos de clase GestorExpediente"
   ]
  },
  {
   "cell_type": "code",
   "execution_count": 21,
   "id": "784db040",
   "metadata": {},
   "outputs": [
    {
     "name": "stdout",
     "output_type": "stream",
     "text": [
      "Información del estudiante:\n",
      "Nombre: Agustin Acosta\n",
      "C.I: 56692489\n",
      "Materias aprobadas: []\n",
      "Materias Matriculadas: []\n",
      "Inscripcion Examenes: []\n",
      "Créditos: 0\n"
     ]
    }
   ],
   "source": [
    "# Generamos el expediente de un estudiante con la clase \"GestorExpediente\"\n",
    "juan = Estudiante(estudiante)\n",
    "\n",
    "# Vemos que inicialmete solo se genero un archivo con los datos iniciales que le pasamos.\n",
    " \n",
    "print(juan)\n"
   ]
  },
  {
   "cell_type": "code",
   "execution_count": 12,
   "id": "37230698",
   "metadata": {},
   "outputs": [
    {
     "name": "stdout",
     "output_type": "stream",
     "text": [
      "Información del estudiante:\n",
      "Nombre: Florencia Sosa\n",
      "C.I: 52286195\n",
      "Materias aprobadas: []\n",
      "Materias Matriculadas: []\n",
      "Inscripcion Examenes: []\n",
      "Créditos: 0\n"
     ]
    }
   ],
   "source": [
    "florencia = Estudiante(estudiante1)\n",
    "print(florencia)"
   ]
  },
  {
   "cell_type": "code",
   "execution_count": 35,
   "id": "493fc27f",
   "metadata": {},
   "outputs": [
    {
     "name": "stdout",
     "output_type": "stream",
     "text": [
      "Información del estudiante:\n",
      "Nombre: Florencia Sosa\n",
      "C.I: 52286195\n",
      "Materias aprobadas: []\n",
      "Materias Matriculadas: []\n",
      "Inscripcion Examenes: []\n",
      "Créditos: 0\n"
     ]
    }
   ],
   "source": [
    "joaquin = Estudiante(estudiante1)\n",
    "print(joaquin)"
   ]
  },
  {
   "cell_type": "code",
   "execution_count": 29,
   "id": "11e0f3e7",
   "metadata": {},
   "outputs": [
    {
     "name": "stdout",
     "output_type": "stream",
     "text": [
      "Información del estudiante:\n",
      "Nombre: Agustin Acosta\n",
      "C.I: 56692489\n",
      "Materias aprobadas: []\n",
      "Materias Matriculadas: []\n",
      "Inscripcion Examenes: ['Mecánica, Ondas y Calor']\n",
      "Créditos: 0\n"
     ]
    }
   ],
   "source": [
    "# Juan se incribe en fisica, deberia dejarlo incirbirse, ya que la unidad curricular no tiene previas\n",
    "juan.inscribirseExamen(fisica)\n",
    "\n",
    "# Volvemos a istanciar para ver los cambios\n",
    "juan = Estudiante(estudiante)\n",
    "print(juan)"
   ]
  },
  {
   "cell_type": "code",
   "execution_count": 31,
   "id": "a9bba669",
   "metadata": {},
   "outputs": [
    {
     "name": "stdout",
     "output_type": "stream",
     "text": [
      "Información del estudiante:\n",
      "Nombre: Agustin Acosta\n",
      "C.I: 56692489\n",
      "Materias aprobadas: []\n",
      "Materias Matriculadas: []\n",
      "Inscripcion Examenes: []\n",
      "Créditos: 0\n"
     ]
    }
   ],
   "source": [
    "# Metodo Quitar UC de la incripcion al examen\n",
    "juan.quitatExamen(fisica)\n",
    "juan = Estudiante(estudiante)\n",
    "print(juan)"
   ]
  },
  {
   "cell_type": "code",
   "execution_count": 30,
   "id": "7b5f3af2",
   "metadata": {},
   "outputs": [
    {
     "name": "stdout",
     "output_type": "stream",
     "text": [
      "Información del estudiante:\n",
      "Nombre: Agustin Acosta\n",
      "C.I: 56692489\n",
      "Materias aprobadas: []\n",
      "Materias Matriculadas: []\n",
      "Inscripcion Examenes: ['Mecánica, Ondas y Calor']\n",
      "Créditos: 0\n"
     ]
    }
   ],
   "source": [
    "# Si tratamos de inscribirnos en un examen sin tener la previa aporbada no nos deberia dejar inscribirnos\n",
    "juan.inscribirseExamen(optica)\n",
    "juan = Estudiante(estudiante)\n",
    "print(juan)"
   ]
  },
  {
   "cell_type": "code",
   "execution_count": null,
   "id": "4699a1c6",
   "metadata": {},
   "outputs": [
    {
     "name": "stdout",
     "output_type": "stream",
     "text": [
      "Información del estudiante:\n",
      "Nombre: Florencia Sosa\n",
      "C.I: 52286195\n",
      "Materias aprobadas: []\n",
      "Materias Matriculadas: []\n",
      "Inscripcion Examenes: []\n",
      "Créditos: 0\n"
     ]
    }
   ],
   "source": [
    "florencia.matricularUC(fisica)\n",
    "florencia = Estudiante(estudiante1)\n",
    "print(florencia)"
   ]
  },
  {
   "cell_type": "code",
   "execution_count": null,
   "id": "efe86854",
   "metadata": {},
   "outputs": [
    {
     "name": "stdout",
     "output_type": "stream",
     "text": [
      "Información del estudiante:\n",
      "Nombre: Florencia Sosa\n",
      "C.I: 52286195\n",
      "Materias aprobadas: []\n",
      "Materias Matriculadas: []\n",
      "Inscripcion Examenes: []\n",
      "Créditos: 0\n"
     ]
    }
   ],
   "source": [
    "florencia.matricularUC(matematica)\n",
    "florencia = Estudiante(estudiante1)\n",
    "print(florencia)"
   ]
  },
  {
   "cell_type": "code",
   "execution_count": null,
   "id": "40f4b8ab",
   "metadata": {},
   "outputs": [
    {
     "name": "stdout",
     "output_type": "stream",
     "text": [
      "Información del estudiante:\n",
      "Nombre: Florencia Sosa\n",
      "C.I: 52286195\n",
      "Materias aprobadas: []\n",
      "Materias Matriculadas: []\n",
      "Inscripcion Examenes: []\n",
      "Créditos: 0\n"
     ]
    }
   ],
   "source": [
    "florencia.matricularUC(optica)\n",
    "florencia = Estudiante(estudiante1)\n",
    "print(florencia)"
   ]
  },
  {
   "cell_type": "markdown",
   "id": "9a6d4a22",
   "metadata": {},
   "source": [
    "Prueba Secretaria con Metodos de la Clase GestorExpediente"
   ]
  },
  {
   "cell_type": "code",
   "execution_count": 43,
   "id": "707acd21",
   "metadata": {},
   "outputs": [],
   "source": [
    "# Crear secretaria y cargar al estudiante\n",
    "secretaria = Secretaria(\"Jessica Arocena\")\n",
    "\n",
    "# Si no existiera Joaquin\n",
    "estudiante2 = GestorExpediente(\"Joaquin Sanchez\", 12345678, 2020)\n",
    "estudiante2.crearArchivo()\n",
    "\n",
    "# Metodo Cargar al estudiante\n",
    "secretaria.cargarEstudiante(estudiante2)"
   ]
  },
  {
   "cell_type": "code",
   "execution_count": 44,
   "id": "42f11e4b",
   "metadata": {},
   "outputs": [
    {
     "name": "stdout",
     "output_type": "stream",
     "text": [
      "{'Nombre': 'Joaquin Sanchez', 'Cedula': 12345678, 'Año Ingreso': 2020, 'Materias Aprobadas': ['Salud y Sociedad'], 'Materias Matriculadas': [], 'Inscripción Examen': [], 'Créditos': 8}\n"
     ]
    }
   ],
   "source": [
    "# Agregar una materia aprobada\n",
    "salud = UC(planIBIO, \"Semestre 1\", \"S1UC5\")\n",
    "salud.infoUC()\n",
    "secretaria.agregar_uc_aprobada(salud)\n",
    "print(estudiante2.cargarDatos())"
   ]
  },
  {
   "cell_type": "code",
   "execution_count": 45,
   "id": "260a472f",
   "metadata": {},
   "outputs": [
    {
     "name": "stdout",
     "output_type": "stream",
     "text": [
      "{'Nombre': 'Joaquin Sanchez', 'Cedula': 12345678, 'Año Ingreso': 2020, 'Materias Aprobadas': [], 'Materias Matriculadas': [], 'Inscripción Examen': [], 'Créditos': 0}\n"
     ]
    }
   ],
   "source": [
    "# Quitamos la UC aprobada\n",
    "secretaria.quitar_uc(salud)\n",
    "print(estudiante2.cargarDatos())"
   ]
  },
  {
   "cell_type": "code",
   "execution_count": 54,
   "id": "a914f716",
   "metadata": {},
   "outputs": [
    {
     "name": "stdout",
     "output_type": "stream",
     "text": [
      "{'Nombre': 'Joaquin Sanchez', 'Cedula': 12345678, 'Año Ingreso': 2020, 'Materias Aprobadas': ['Álgebra, Análisis y Geometría Analítica'], 'Materias Matriculadas': ['Numeros Complejos y Ecuaciones Diferenciales'], 'Inscripción Examen': [], 'Créditos': 8}\n"
     ]
    }
   ],
   "source": [
    "# Metodo Matricular\n",
    "secretaria.matricularEstudiante(matematica2) # No deberia poder matricular ya que no aprobo las previas\n",
    "print(estudiante2.cargarDatos())"
   ]
  },
  {
   "cell_type": "code",
   "execution_count": 53,
   "id": "f94e70ba",
   "metadata": {},
   "outputs": [
    {
     "data": {
      "text/plain": [
       "False"
      ]
     },
     "execution_count": 53,
     "metadata": {},
     "output_type": "execute_result"
    }
   ],
   "source": [
    "secretaria.cargarEstudiante(estudiante2)\n",
    "secretaria.agregar_uc_aprobada(matematica)"
   ]
  },
  {
   "cell_type": "code",
   "execution_count": null,
   "id": "c1094a8f",
   "metadata": {},
   "outputs": [
    {
     "name": "stdout",
     "output_type": "stream",
     "text": [
      "Incriptos en:\n",
      "{\n",
      "    \"Mecánica, Ondas y Calor\": [\n",
      "        \"Joaquin Sanchez\"\n",
      "    ]\n",
      "}\n"
     ]
    }
   ],
   "source": [
    "# Si secretaria quisiera ver los estudiantes matriculados a una UC, puede hacerlo desde el método Ver Inscriptos\n",
    "inscripto = secretaria.verInscriptos()\n",
    "print(\"Incriptos en:\")\n",
    "print(json.dumps(inscripto, indent=4, ensure_ascii=False))"
   ]
  },
  {
   "cell_type": "code",
   "execution_count": 55,
   "id": "d24e53e6",
   "metadata": {},
   "outputs": [],
   "source": [
    "# Si las UC se repiten solo agrega el nombre en Ver Inscriptos\n",
    "secretaria.cargarEstudiante(estudiante)\n",
    "secretaria.matricularEstudiante(matematica)\n",
    "secretaria.cargarEstudiante(estudiante1)\n",
    "secretaria.matricularEstudiante(matematica)"
   ]
  },
  {
   "cell_type": "code",
   "execution_count": 56,
   "id": "2b8c7880",
   "metadata": {},
   "outputs": [
    {
     "data": {
      "text/plain": [
       "{'Mecánica, Ondas y Calor': ['Joaquin Sanchez'],\n",
       " 'Numeros Complejos y Ecuaciones Diferenciales': ['Joaquin Sanchez'],\n",
       " 'Álgebra, Análisis y Geometría Analítica': ['Agustin Acosta',\n",
       "  'Florencia Sosa']}"
      ]
     },
     "execution_count": 56,
     "metadata": {},
     "output_type": "execute_result"
    }
   ],
   "source": [
    "secretaria.verInscriptos()"
   ]
  }
 ],
 "metadata": {
  "kernelspec": {
   "display_name": "Python 3",
   "language": "python",
   "name": "python3"
  },
  "language_info": {
   "codemirror_mode": {
    "name": "ipython",
    "version": 3
   },
   "file_extension": ".py",
   "mimetype": "text/x-python",
   "name": "python",
   "nbconvert_exporter": "python",
   "pygments_lexer": "ipython3",
   "version": "3.13.2"
  }
 },
 "nbformat": 4,
 "nbformat_minor": 5
}
