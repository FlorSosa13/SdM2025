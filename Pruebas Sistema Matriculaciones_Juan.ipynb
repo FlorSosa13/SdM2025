{
 "cells": [
  {
   "cell_type": "code",
   "execution_count": 23,
   "id": "7542d746",
   "metadata": {},
   "outputs": [],
   "source": [
    "import json\n",
    "from SistemaMatriculaciones import UC, Estudiante, GestorExpediente, Secretaria, PlanEstudio"
   ]
  },
  {
   "cell_type": "markdown",
   "id": "1cfb9791",
   "metadata": {},
   "source": [
    "**Cargamos el Plan de Estudio de Ingeniería Biomédica utilizando la clase \"Plan Estudio\"**\n"
   ]
  },
  {
   "cell_type": "code",
   "execution_count": 24,
   "id": "b6a93fc0",
   "metadata": {},
   "outputs": [
    {
     "name": "stdout",
     "output_type": "stream",
     "text": [
      "{'Semestre 1': {'S1UC1': {'Nombre': 'Álgebra, Análisis y Geometría Analítica', 'Creditos': 8, 'Previas': []}, 'S1UC2': {'Nombre': 'Mecánica, Ondas y Calor', 'Creditos': 10, 'Previas': []}, 'S1UC3': {'Nombre': 'Química General e Inorgánica', 'Creditos': 9, 'Previas': []}, 'S1UC4': {'Nombre': 'Taller Inicial de Tecnologías', 'Creditos': 8, 'Previas': []}, 'S1UC5': {'Nombre': 'Salud y Sociedad', 'Creditos': 8, 'Previas': []}, 'S1UC6': {'Nombre': 'Ingles 1', 'Creditos': 4, 'Previas': []}}, 'Semestre 2': {'S2UC1': {'Nombre': 'Numeros Complejos y Ecuaciones Diferenciales', 'Creditos': 8, 'Previas': ['Álgebra, Análisis y Geometría Analítica']}, 'S2UC2': {'Nombre': 'Electricidad y Magnetismo', 'Creditos': 10, 'Previas': ['Álgebra, Análisis y Geometría Analítica', 'Mecánica, Ondas y Calor']}, 'S2UC3': {'Nombre': 'Química Orgánica y Biológica', 'Creditos': 9, 'Previas': ['Química Orgánica y Biológica']}, 'S2UC4': {'Nombre': 'Anatomía y Fisiologías Humanas', 'Creditos': 10, 'Previas': ['Salud y Sociedad', 'Mecánica, Ondas y Calor']}, 'S2UC5': {'Nombre': 'Ingles 2', 'Creditos': 4, 'Previas': []}}, 'Semestre 3': {'S3UC1': {'Nombre': 'Óptica y Radiaciones', 'Creditos': 10, 'Previas': ['Álgebra, Análisis y Geometría Analítica', 'Mecánica, Ondas y Calor']}, 'S3UC2': {'Nombre': 'Electrónica Analógica', 'Creditos': 10, 'Previas': ['Numeros Complejos y Ecuaciones Diferenciales', 'Electricidad y Magnetismo', 'Taller Inicial de Tecnologias']}, 'S3UC3': {'Nombre': 'Electroctenia', 'Creditos': 9, 'Previas': ['Numeros Complejos y Ecuaciones Diferenciales', 'Electricidad y Magnetismo']}, 'S3UC4': {'Nombre': 'Instalaciones Hospitalarias', 'Creditos': 9, 'Previas': ['Química Orgánica y Biológica', 'Anatomía y Fisiologías Humanas', 'Electricidad y Magnetismo']}, 'S3UC5': {'Nombre': 'Programación de Computadoras', 'Creditos': 8, 'Previas': ['Álgebra, Análisis y Geometría Analítica']}, 'S3UC6': {'Nombre': 'Ingles 3', 'Creditos': 4, 'Previas': []}}, 'Semestre 4': {'S4UC1': {'Nombre': 'Electrofisiología Clínica', 'Creditos': 10, 'Previas': ['Anatomía y Fisiologías Humanas', 'Electrónica Analógica']}, 'S4UC2': {'Nombre': 'Electrónica Digital', 'Creditos': 10, 'Previas': ['Electrónica Analógica']}, 'S4UC3': {'Nombre': 'Mecánica, Maquinas y Materiales', 'Creditos': 9, 'Previas': ['Álgebra, Análisis y Geometría Analítica', 'Mecánica, Ondas y Calor']}, 'S4UC4': {'Nombre': 'Imágenes Médicas', 'Creditos': 10, 'Previas': ['Anatomía y Fisiologías Humanas', 'Óptica y Radiaciones']}, 'S4UC5': {'Nombre': 'Práctica Profesional Curricular A (PPC A)', 'Creditos': 12, 'Previas': []}, 'S4UC6': {'Nombre': 'Ingles 4', 'Creditos': 4, 'Previas': []}}, 'Semestre 5': {'S5UC1': {'Nombre': 'Seguridad Eléctrica y Radiante', 'Creditos': 10, 'Previas': ['Electroctenia', 'Instalaciones Hospitalarias', 'Electrofisiología Clínica', 'Imágenes Médicas']}, 'S5UC2': {'Nombre': 'Normativa sobre Equipamientos Médicos', 'Creditos': 8, 'Previas': ['Electroctenia', 'Instalaciones Hospitalarias', 'Electrofisiología Clínica', 'Imágenes Médicas']}, 'S5UC3': {'Nombre': 'Taller de Mantenimiento de Equipos Médicos', 'Creditos': 10, 'Previas': ['Electroctenia', 'Instalaciones Hospitalarias', 'Electrofisiología Clínica', 'Mecánica, Maquinas y Materiales', 'Imágenes Médicas']}, 'S5UC4': {'Nombre': 'Matemática Avanzada I', 'Creditos': 9, 'Previas': ['Numeros Complejos y Ecuaciones Diferenciales', 'Programación de Computadoras']}, 'S5UC5': {'Nombre': 'Ingles 5', 'Creditos': 4, 'Previas': []}}, 'Semestre 6': {'S6UC1': {'Nombre': 'Instrumental de Laboratorio Clínico', 'Creditos': 9, 'Previas': ['Química Orgánica y Biológica', 'Instalaciones Hospitalarias']}, 'S6UC2': {'Nombre': 'Informática Médica', 'Creditos': 8, 'Previas': ['Programación de Computadoras', 'Electrofisiología Clínica', 'Imágenes Médicas']}, 'S6UC3': {'Nombre': 'Instrumentación Médica Complementaria', 'Creditos': 10, 'Previas': ['Electroctenia', 'Instalaciones Hospitalarias', 'Electrofisiología Clínica', 'Imágenes Médicas']}, 'S6UC4': {'Nombre': 'Matemática Avanzada II', 'Creditos': 9, 'Previas': ['Matemática Avanzada I']}, 'S6UC5': {'Nombre': 'Física Avanzada', 'Creditos': 8, 'Previas': ['Óptica y Radiaciones']}, 'S6UC6': {'Nombre': 'Proyecto Final de Titulación (a nivel Tecnólogo)', 'Creditos': 8, 'Previas': []}, 'S6UC7': {'Nombre': 'Ingles 6', 'Creditos': 4, 'Previas': []}}, 'Semestre 7': {'S7UC1': {'Nombre': 'Fisiopatología', 'Creditos': 9, 'Previas': ['Instrumental de Laboratorio Clínico', 'Instrumentación Médica Complementaria']}, 'S7UC2': {'Nombre': 'Radicaciones No-ionizantes', 'Creditos': 7, 'Previas': ['Matemática Avanzada 1', 'Física Avanzada']}, 'S7UC3': {'Nombre': 'Programación Digital Avanzada', 'Creditos': 7, 'Previas': ['Instrumental de Laboratorio Clínico', 'Instrumentación Médica Complementaria']}, 'S7UC4': {'Nombre': 'Legislación para la Salud', 'Creditos': 5, 'Previas': ['Normativa sobre Equipamiento Médico', 'Instrumental de Laboratorio Clínico', 'Informática Médica', 'Instrumentación Médica Complementaria']}, 'S7UC5': {'Nombre': 'Economía para la Salud', 'Creditos': 5, 'Previas': ['Normativa sobre Equipamiento Médico', 'Instrumental de Laboratorio Clínico', 'Informática Médica', 'Instrumentación Médica Complementaria']}, 'S7UC6': {'Nombre': 'Ingles 7', 'Creditos': 4, 'Previas': []}}, 'Semestre 8': {'S8UC1': {'Nombre': 'Bioestadística', 'Creditos': 7, 'Previas': ['Informática Médica']}, 'S8UC2': {'Nombre': 'Señales y Sistemas', 'Creditos': 8, 'Previas': ['Electrofisiología Clínica', 'Matemática Avanzada II']}, 'S8UC3': {'Nombre': 'Biomecánica y Biomateriales', 'Creditos': 7, 'Previas': ['Anatomía y Fisiología Humanas', 'Mecánica, Máquinas y Materiales']}, 'S8UC4': {'Nombre': 'Metodología de la Investigación', 'Creditos': 5, 'Previas': ['Física Avanzada', 'Fisiopatología']}, 'S8UC5': {'Nombre': 'Higiene y Seguridad en Ambientes Hospitalarios', 'Creditos': 5, 'Previas': ['Fisiopatología', 'Legislación para la Salud']}, 'S8UC6': {'Nombre': 'Ingles 8', 'Creditos': 4, 'Previas': []}}, 'Semestre 9': {'S9UC1': {'Nombre': 'Radioterapia', 'Creditos': 7, 'Previas': ['Seguridad Eléctrica y Radiante', 'Física Avanzada', 'Fisiopatología']}, 'S9UC2': {'Nombre': 'Gestión de Sistemas de Salud', 'Creditos': 9, 'Previas': ['Fisiopatología', 'Legislación para la Salud', 'Economía para la Salud', 'Bioestadística']}, 'S9UC3': {'Nombre': 'Investigación Clínica y Bioética', 'Creditos': 7, 'Previas': ['Metodología de la Investigación', 'Higiene y Seguridad en Ambientes Hospitalarios']}, 'S9UC4': {'Nombre': 'Electiva 1', 'Creditos': 4, 'Previas': ['Bioestadística', 'Señales y Sistemas', 'Biomecánica y Biomateriales', 'Metodología de la Investigación', 'Higiene y Seguridad en Ambientes Hospitalarios']}, 'S9UC5': {'Nombre': 'Electiva 2', 'Creditos': 4, 'Previas': ['Bioestadística', 'Señales y Sistemas', 'Biomecánica y Biomateriales', 'Metodología de la Investigación', 'Higiene y Seguridad en Ambientes Hospitalarios']}, 'S9UC6': {'Nombre': 'Práctica Profesional Curricular B', 'Creditos': 6, 'Previas': ['Bioestadística', 'Señales y Sistemas', 'Biomecánica y Biomateriales', 'Metodología de la Investigación', 'Higiene y Seguridad en Ambientes Hospitalarios']}, 'S9UC7': {'Nombre': 'Ingles 9', 'Creditos': 4, 'Previas': []}}, 'Semestre 10': {'S10UC1': {'Nombre': 'Telesalud y Telemedicina', 'Creditos': 8, 'Previas': ['Gestión de Sistemas de Salud']}, 'S10UC2': {'Nombre': 'Electiva 3', 'Creditos': 4, 'Previas': ['Radioterapia', 'Gestión de Sistemas de Salud', 'Investigación Clínica y Bioética']}, 'S10UC3': {'Nombre': 'Electiva 4', 'Creditos': 4, 'Previas': ['Radioterapia', 'Gestión de Sistemas de Salud', 'Investigación Clínica y Bioética']}, 'S10UC4': {'Nombre': 'Proyecto Final de Titulacion (nivel Ingenieria - PFT T)', 'Creditos': 8, 'Previas': []}, 'S10UC5': {'Nombre': 'Ingles 10', 'Creditos': 4, 'Previas': []}}}\n"
     ]
    }
   ],
   "source": [
    "planIBIO = PlanEstudio()\n",
    "\n",
    "print(planIBIO.cargarPlanEstudio())"
   ]
  },
  {
   "cell_type": "markdown",
   "id": "f7cadf3e",
   "metadata": {},
   "source": [
    "**Generamos el expediente de un estudiante con la clase \"GestorEspediente\"**\n"
   ]
  },
  {
   "cell_type": "code",
   "execution_count": 25,
   "id": "97b1ee3e",
   "metadata": {},
   "outputs": [],
   "source": [
    "expediente = GestorExpediente(\"Juan Acosta\", 56692489, 2022)\n",
    "expediente.crearArchivo()"
   ]
  },
  {
   "cell_type": "code",
   "execution_count": 26,
   "id": "4d3c75f6",
   "metadata": {},
   "outputs": [],
   "source": [
    "expediente2 = GestorExpediente(\"Florencia Sosa\", 56692489, 2020)\n",
    "expediente2.crearArchivo()"
   ]
  },
  {
   "cell_type": "code",
   "execution_count": 27,
   "id": "0919a8de",
   "metadata": {},
   "outputs": [],
   "source": [
    "expediente3 = GestorExpediente(\"Joaquin Sanchez\", 56692489, 2022)\n",
    "expediente3.crearArchivo()"
   ]
  },
  {
   "cell_type": "markdown",
   "id": "53fdd693",
   "metadata": {},
   "source": [
    "**Generamos un objeto Estudiante pasandole el expediente que creamos**"
   ]
  },
  {
   "cell_type": "code",
   "execution_count": 28,
   "id": "07c6e1f3",
   "metadata": {},
   "outputs": [
    {
     "name": "stdout",
     "output_type": "stream",
     "text": [
      "Información del estudiante:\n",
      "Nombre: Juan Acosta\n",
      "C.I: 56692489\n",
      "Materias aprobadas: []\n",
      "Materias Matriculadas: []\n",
      "Inscripcion Examenes: []\n",
      "Créditos: 0\n"
     ]
    }
   ],
   "source": [
    "juan = Estudiante(expediente)\n",
    "\n",
    "# Vemos que inicialmete solo se genero un archivo con los datos iniciales que le pasamos.\n",
    " \n",
    "print(juan)"
   ]
  },
  {
   "cell_type": "code",
   "execution_count": 29,
   "id": "20ce0d29",
   "metadata": {},
   "outputs": [],
   "source": [
    "florencia = Estudiante(expediente2)"
   ]
  },
  {
   "cell_type": "code",
   "execution_count": 30,
   "id": "3eaf7788",
   "metadata": {},
   "outputs": [],
   "source": [
    "joaquin = Estudiante(expediente3)"
   ]
  },
  {
   "cell_type": "markdown",
   "id": "9f6bd783",
   "metadata": {},
   "source": [
    "**Ahora generamos un objeto UC que representa una unidad curricular, la cual debe recibir el semestre al que corresponde su el código asociado**"
   ]
  },
  {
   "cell_type": "code",
   "execution_count": 31,
   "id": "b266a9d5",
   "metadata": {},
   "outputs": [
    {
     "name": "stdout",
     "output_type": "stream",
     "text": [
      "True\n",
      "Álgebra, Análisis y Geometría Analítica\n",
      "[]\n",
      "8\n"
     ]
    }
   ],
   "source": [
    "matematica = UC(planIBIO, \"Semestre 1\", \"S1UC1\")\n",
    "print(matematica.infoUC())\n",
    "print(matematica.nombreMateria())\n",
    "print(matematica.nombrePrevias())\n",
    "print(matematica.getCreditos())"
   ]
  },
  {
   "cell_type": "markdown",
   "id": "e9c20dca",
   "metadata": {},
   "source": [
    "**Matriculamos un estudiate a la unidad curricular 'Álgebra, Análisis y Geometría Analítica' desde el metodo matricular de la clase Estudiante, que a su vez utiliza el metodo matricular de la clase GestorExpediente \"**"
   ]
  },
  {
   "cell_type": "code",
   "execution_count": 32,
   "id": "abcbb58a",
   "metadata": {},
   "outputs": [
    {
     "name": "stdout",
     "output_type": "stream",
     "text": [
      "Información del estudiante:\n",
      "Nombre: Juan Acosta\n",
      "C.I: 56692489\n",
      "Materias aprobadas: []\n",
      "Materias Matriculadas: ['Álgebra, Análisis y Geometría Analítica']\n",
      "Inscripcion Examenes: []\n",
      "Créditos: 0\n"
     ]
    }
   ],
   "source": [
    "juan.matricularUC(matematica)\n",
    "\n",
    "# Volvemos a istanciar para ver los cambios\n",
    "juan = Estudiante(expediente)\n",
    "print(juan)"
   ]
  },
  {
   "cell_type": "markdown",
   "id": "681a4538",
   "metadata": {},
   "source": [
    "**Generamos un objeto secretaria y cargamos al estudiante. Después, suponemos que el estudiante aprobo la materia, entonces desde Secretaria usamos el metodo de agregar Uc aprobada, lo cual modifica el expediente del estudiante agregando la uc y sumando los créditos que corresponden a la materia**"
   ]
  },
  {
   "cell_type": "code",
   "execution_count": 33,
   "id": "0bfe4ee4",
   "metadata": {},
   "outputs": [
    {
     "data": {
      "text/plain": [
       "True"
      ]
     },
     "execution_count": 33,
     "metadata": {},
     "output_type": "execute_result"
    }
   ],
   "source": [
    "jessica = Secretaria(\"Jessica\")\n",
    "jessica.cargarEstudiante(expediente)\n",
    "jessica.agregar_uc_aprobada(matematica)"
   ]
  },
  {
   "cell_type": "markdown",
   "id": "599467ad",
   "metadata": {},
   "source": [
    "**Ahora vamos a matricular a otro estudiante a 'Álgebra, Análisis y Geometría Analítica' pero esta vez lo hace la coordinadora**"
   ]
  },
  {
   "cell_type": "code",
   "execution_count": 34,
   "id": "d38857a2",
   "metadata": {},
   "outputs": [],
   "source": [
    "jessica.cargarEstudiante(expediente2)   # (Expediente de Florencia)\n",
    "jessica.matricularEstudiante(matematica)"
   ]
  },
  {
   "cell_type": "code",
   "execution_count": 35,
   "id": "61e0c44f",
   "metadata": {},
   "outputs": [
    {
     "name": "stdout",
     "output_type": "stream",
     "text": [
      "Información del estudiante:\n",
      "Nombre: Florencia Sosa\n",
      "C.I: 56692489\n",
      "Materias aprobadas: []\n",
      "Materias Matriculadas: ['Álgebra, Análisis y Geometría Analítica']\n",
      "Inscripcion Examenes: []\n",
      "Créditos: 0\n"
     ]
    }
   ],
   "source": [
    "florencia = Estudiante(expediente2)\n",
    "print(florencia)"
   ]
  },
  {
   "cell_type": "code",
   "execution_count": 36,
   "id": "4f08267f",
   "metadata": {},
   "outputs": [],
   "source": [
    "# Repetimos para otro estudiante mas\n",
    "jessica.cargarEstudiante(expediente3)\n",
    "jessica.matricularEstudiante(matematica)"
   ]
  },
  {
   "cell_type": "code",
   "execution_count": 37,
   "id": "dccd522f",
   "metadata": {},
   "outputs": [
    {
     "name": "stdout",
     "output_type": "stream",
     "text": [
      "Información del estudiante:\n",
      "Nombre: Joaquin Sanchez\n",
      "C.I: 56692489\n",
      "Materias aprobadas: []\n",
      "Materias Matriculadas: ['Álgebra, Análisis y Geometría Analítica']\n",
      "Inscripcion Examenes: []\n",
      "Créditos: 0\n"
     ]
    }
   ],
   "source": [
    "joaquin = Estudiante(expediente3)\n",
    "print(joaquin)"
   ]
  },
  {
   "cell_type": "markdown",
   "id": "2a7c2b5f",
   "metadata": {},
   "source": [
    "**Generamos un nuevo objeto UC, pero ahora para 'Numeros Complejos y Ecuaciones Diferenciales'**"
   ]
  },
  {
   "cell_type": "code",
   "execution_count": 38,
   "id": "6e089a91",
   "metadata": {},
   "outputs": [
    {
     "data": {
      "text/plain": [
       "'Numeros Complejos y Ecuaciones Diferenciales'"
      ]
     },
     "execution_count": 38,
     "metadata": {},
     "output_type": "execute_result"
    }
   ],
   "source": [
    "matematica2 = UC(planIBIO, \"Semestre 2\", \"S2UC1\")\n",
    "matematica2.infoUC()\n",
    "matematica2.nombreMateria()"
   ]
  },
  {
   "cell_type": "markdown",
   "id": "372cb1a1",
   "metadata": {},
   "source": [
    "**Ahora que el estudiante cumple con la previa, lo matriculamos a la nueva UC**"
   ]
  },
  {
   "cell_type": "code",
   "execution_count": 39,
   "id": "ba604eea",
   "metadata": {},
   "outputs": [
    {
     "name": "stdout",
     "output_type": "stream",
     "text": [
      "Información del estudiante:\n",
      "Nombre: Joaquin Sanchez\n",
      "C.I: 56692489\n",
      "Materias aprobadas: []\n",
      "Materias Matriculadas: ['Álgebra, Análisis y Geometría Analítica']\n",
      "Inscripcion Examenes: []\n",
      "Créditos: 0\n"
     ]
    },
    {
     "data": {
      "text/plain": [
       "True"
      ]
     },
     "execution_count": 39,
     "metadata": {},
     "output_type": "execute_result"
    }
   ],
   "source": [
    "florencia = Estudiante(expediente3)\n",
    "print(florencia)\n",
    "florencia.matricularUC(matematica2)"
   ]
  },
  {
   "cell_type": "markdown",
   "id": "99e414db",
   "metadata": {},
   "source": [
    "**Inscribimos a examen a este último estudiante**"
   ]
  },
  {
   "cell_type": "code",
   "execution_count": 40,
   "id": "4b2a460b",
   "metadata": {},
   "outputs": [
    {
     "name": "stdout",
     "output_type": "stream",
     "text": [
      "Información del estudiante:\n",
      "Nombre: Joaquin Sanchez\n",
      "C.I: 56692489\n",
      "Materias aprobadas: []\n",
      "Materias Matriculadas: ['Álgebra, Análisis y Geometría Analítica', 'Numeros Complejos y Ecuaciones Diferenciales']\n",
      "Inscripcion Examenes: ['Numeros Complejos y Ecuaciones Diferenciales']\n",
      "Créditos: 0\n"
     ]
    }
   ],
   "source": [
    "florencia.inscribirseExamen(matematica2)\n",
    "florencia = Estudiante(expediente3)\n",
    "print(florencia)"
   ]
  },
  {
   "cell_type": "markdown",
   "id": "f3abead3",
   "metadata": {},
   "source": [
    "**Si secretaria quisiera ver los estudiantes matriculados a una UC, puede hacerlo desde el método 'verEstudiantesMatriculados'** "
   ]
  },
  {
   "cell_type": "code",
   "execution_count": 41,
   "id": "5ea65e3e",
   "metadata": {},
   "outputs": [
    {
     "data": {
      "text/plain": [
       "{'Álgebra, Análisis y Geometría Analítica': ['Juan Acosta',\n",
       "  'Florencia Sosa',\n",
       "  'Joaquin Sanchez'],\n",
       " 'Numeros Complejos y Ecuaciones Diferenciales': ['Joaquin Sanchez']}"
      ]
     },
     "execution_count": 41,
     "metadata": {},
     "output_type": "execute_result"
    }
   ],
   "source": [
    "jessica.verInscriptos()"
   ]
  },
  {
   "cell_type": "markdown",
   "id": "146ca8ce",
   "metadata": {},
   "source": [
    "**Le aprobamos una UC a Joaquin**"
   ]
  },
  {
   "cell_type": "code",
   "execution_count": 42,
   "id": "bdb25fcc",
   "metadata": {},
   "outputs": [
    {
     "data": {
      "text/plain": [
       "True"
      ]
     },
     "execution_count": 42,
     "metadata": {},
     "output_type": "execute_result"
    }
   ],
   "source": [
    "jessica.cargarEstudiante(expediente3)\n",
    "jessica.agregar_uc_aprobada(matematica)"
   ]
  },
  {
   "cell_type": "code",
   "execution_count": 43,
   "id": "8bd44b72",
   "metadata": {},
   "outputs": [
    {
     "name": "stdout",
     "output_type": "stream",
     "text": [
      "Información del estudiante:\n",
      "Nombre: Joaquin Sanchez\n",
      "C.I: 56692489\n",
      "Materias aprobadas: ['Álgebra, Análisis y Geometría Analítica']\n",
      "Materias Matriculadas: ['Álgebra, Análisis y Geometría Analítica', 'Numeros Complejos y Ecuaciones Diferenciales']\n",
      "Inscripcion Examenes: ['Numeros Complejos y Ecuaciones Diferenciales']\n",
      "Créditos: 8\n"
     ]
    }
   ],
   "source": [
    "joaquin = Estudiante(expediente3)\n",
    "print(joaquin)"
   ]
  },
  {
   "cell_type": "markdown",
   "id": "34796fb1",
   "metadata": {},
   "source": [
    "**Quitamos una UC aprobada desde la clase Secretaria**"
   ]
  },
  {
   "cell_type": "code",
   "execution_count": 44,
   "id": "1732d21f",
   "metadata": {},
   "outputs": [
    {
     "name": "stdout",
     "output_type": "stream",
     "text": [
      "Información del estudiante:\n",
      "Nombre: Joaquin Sanchez\n",
      "C.I: 56692489\n",
      "Materias aprobadas: []\n",
      "Materias Matriculadas: ['Álgebra, Análisis y Geometría Analítica', 'Numeros Complejos y Ecuaciones Diferenciales']\n",
      "Inscripcion Examenes: ['Numeros Complejos y Ecuaciones Diferenciales']\n",
      "Créditos: 0\n"
     ]
    }
   ],
   "source": [
    "jessica.quitar_uc(matematica)\n",
    "joaquin = Estudiante(expediente3)\n",
    "print(joaquin)\n"
   ]
  }
 ],
 "metadata": {
  "kernelspec": {
   "display_name": "Python 3",
   "language": "python",
   "name": "python3"
  },
  "language_info": {
   "codemirror_mode": {
    "name": "ipython",
    "version": 3
   },
   "file_extension": ".py",
   "mimetype": "text/x-python",
   "name": "python",
   "nbconvert_exporter": "python",
   "pygments_lexer": "ipython3",
   "version": "3.11.2"
  }
 },
 "nbformat": 4,
 "nbformat_minor": 5
}
